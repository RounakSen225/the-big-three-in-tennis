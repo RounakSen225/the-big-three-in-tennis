{
 "cells": [
  {
   "cell_type": "markdown",
   "id": "14c40d30",
   "metadata": {},
   "source": [
    "DATA EXTRACTION"
   ]
  },
  {
   "cell_type": "code",
   "execution_count": 8,
   "id": "c35be2d6",
   "metadata": {},
   "outputs": [],
   "source": [
    "#Data extraction\n",
    "import pandas as pd\n",
    "import os\n",
    "import glob\n",
    "  \n",
    "  \n",
    "path = os.getcwd()\n",
    "csv_files = glob.glob(os.path.join(path, \"../data/*.csv\"))\n",
    "  \n",
    "all_data = pd.DataFrame()\n",
    "\n",
    "for f in csv_files:\n",
    "    df = pd.read_csv(f)\n",
    "    all_data = pd.concat([all_data, df])      "
   ]
  },
  {
   "cell_type": "markdown",
   "id": "ffcbfbe4",
   "metadata": {},
   "source": [
    "DATA CLEANING"
   ]
  },
  {
   "cell_type": "code",
   "execution_count": 9,
   "id": "db5173ea",
   "metadata": {},
   "outputs": [
    {
     "data": {
      "text/html": [
       "<div>\n",
       "<style scoped>\n",
       "    .dataframe tbody tr th:only-of-type {\n",
       "        vertical-align: middle;\n",
       "    }\n",
       "\n",
       "    .dataframe tbody tr th {\n",
       "        vertical-align: top;\n",
       "    }\n",
       "\n",
       "    .dataframe thead th {\n",
       "        text-align: right;\n",
       "    }\n",
       "</style>\n",
       "<table border=\"1\" class=\"dataframe\">\n",
       "  <thead>\n",
       "    <tr style=\"text-align: right;\">\n",
       "      <th></th>\n",
       "      <th>tourney_name</th>\n",
       "      <th>surface</th>\n",
       "      <th>tourney_level</th>\n",
       "      <th>winner_name</th>\n",
       "      <th>score</th>\n",
       "      <th>best_of</th>\n",
       "      <th>round</th>\n",
       "      <th>minutes</th>\n",
       "      <th>w_ace</th>\n",
       "      <th>w_df</th>\n",
       "      <th>...</th>\n",
       "      <th>w_bpSaved</th>\n",
       "      <th>w_bpFaced</th>\n",
       "      <th>l_ace</th>\n",
       "      <th>l_df</th>\n",
       "      <th>l_svpt</th>\n",
       "      <th>l_1stIn</th>\n",
       "      <th>l_1stWon</th>\n",
       "      <th>l_2ndWon</th>\n",
       "      <th>l_bpSaved</th>\n",
       "      <th>l_bpFaced</th>\n",
       "    </tr>\n",
       "  </thead>\n",
       "  <tbody>\n",
       "    <tr>\n",
       "      <th>0</th>\n",
       "      <td>Australian Open</td>\n",
       "      <td>Hard</td>\n",
       "      <td>G</td>\n",
       "      <td>Novak Djokovic</td>\n",
       "      <td>6-3 6-2 6-3</td>\n",
       "      <td>5</td>\n",
       "      <td>F</td>\n",
       "      <td>124.0</td>\n",
       "      <td>8.0</td>\n",
       "      <td>0.0</td>\n",
       "      <td>...</td>\n",
       "      <td>1.0</td>\n",
       "      <td>1.0</td>\n",
       "      <td>3.0</td>\n",
       "      <td>2.0</td>\n",
       "      <td>73.0</td>\n",
       "      <td>47.0</td>\n",
       "      <td>24.0</td>\n",
       "      <td>16.0</td>\n",
       "      <td>3.0</td>\n",
       "      <td>8.0</td>\n",
       "    </tr>\n",
       "    <tr>\n",
       "      <th>1</th>\n",
       "      <td>Australian Open</td>\n",
       "      <td>Hard</td>\n",
       "      <td>G</td>\n",
       "      <td>Stefanos Tsitsipas</td>\n",
       "      <td>6-7(11) 7-6(3) 7-5 7-6(5)</td>\n",
       "      <td>5</td>\n",
       "      <td>R16</td>\n",
       "      <td>225.0</td>\n",
       "      <td>20.0</td>\n",
       "      <td>1.0</td>\n",
       "      <td>...</td>\n",
       "      <td>12.0</td>\n",
       "      <td>12.0</td>\n",
       "      <td>12.0</td>\n",
       "      <td>0.0</td>\n",
       "      <td>156.0</td>\n",
       "      <td>105.0</td>\n",
       "      <td>83.0</td>\n",
       "      <td>31.0</td>\n",
       "      <td>2.0</td>\n",
       "      <td>3.0</td>\n",
       "    </tr>\n",
       "    <tr>\n",
       "      <th>2</th>\n",
       "      <td>Australian Open</td>\n",
       "      <td>Hard</td>\n",
       "      <td>G</td>\n",
       "      <td>Milos Raonic</td>\n",
       "      <td>6-1 6-1 7-6(5)</td>\n",
       "      <td>5</td>\n",
       "      <td>R16</td>\n",
       "      <td>119.0</td>\n",
       "      <td>15.0</td>\n",
       "      <td>1.0</td>\n",
       "      <td>...</td>\n",
       "      <td>0.0</td>\n",
       "      <td>1.0</td>\n",
       "      <td>6.0</td>\n",
       "      <td>10.0</td>\n",
       "      <td>90.0</td>\n",
       "      <td>56.0</td>\n",
       "      <td>38.0</td>\n",
       "      <td>12.0</td>\n",
       "      <td>14.0</td>\n",
       "      <td>20.0</td>\n",
       "    </tr>\n",
       "    <tr>\n",
       "      <th>3</th>\n",
       "      <td>Australian Open</td>\n",
       "      <td>Hard</td>\n",
       "      <td>G</td>\n",
       "      <td>Frances Tiafoe</td>\n",
       "      <td>4-6 6-4 6-4 7-5</td>\n",
       "      <td>5</td>\n",
       "      <td>R64</td>\n",
       "      <td>179.0</td>\n",
       "      <td>10.0</td>\n",
       "      <td>2.0</td>\n",
       "      <td>...</td>\n",
       "      <td>4.0</td>\n",
       "      <td>6.0</td>\n",
       "      <td>13.0</td>\n",
       "      <td>4.0</td>\n",
       "      <td>134.0</td>\n",
       "      <td>87.0</td>\n",
       "      <td>64.0</td>\n",
       "      <td>23.0</td>\n",
       "      <td>10.0</td>\n",
       "      <td>14.0</td>\n",
       "    </tr>\n",
       "    <tr>\n",
       "      <th>4</th>\n",
       "      <td>Australian Open</td>\n",
       "      <td>Hard</td>\n",
       "      <td>G</td>\n",
       "      <td>Roberto Bautista Agut</td>\n",
       "      <td>6-7(6) 6-3 6-2 4-6 6-4</td>\n",
       "      <td>5</td>\n",
       "      <td>R16</td>\n",
       "      <td>238.0</td>\n",
       "      <td>10.0</td>\n",
       "      <td>3.0</td>\n",
       "      <td>...</td>\n",
       "      <td>3.0</td>\n",
       "      <td>5.0</td>\n",
       "      <td>17.0</td>\n",
       "      <td>6.0</td>\n",
       "      <td>167.0</td>\n",
       "      <td>102.0</td>\n",
       "      <td>77.0</td>\n",
       "      <td>28.0</td>\n",
       "      <td>8.0</td>\n",
       "      <td>13.0</td>\n",
       "    </tr>\n",
       "  </tbody>\n",
       "</table>\n",
       "<p>5 rows × 24 columns</p>\n",
       "</div>"
      ],
      "text/plain": [
       "      tourney_name surface tourney_level            winner_name  \\\n",
       "0  Australian Open    Hard             G         Novak Djokovic   \n",
       "1  Australian Open    Hard             G     Stefanos Tsitsipas   \n",
       "2  Australian Open    Hard             G           Milos Raonic   \n",
       "3  Australian Open    Hard             G         Frances Tiafoe   \n",
       "4  Australian Open    Hard             G  Roberto Bautista Agut   \n",
       "\n",
       "                       score  best_of round  minutes  w_ace  w_df  ...  \\\n",
       "0                6-3 6-2 6-3        5     F    124.0    8.0   0.0  ...   \n",
       "1  6-7(11) 7-6(3) 7-5 7-6(5)        5   R16    225.0   20.0   1.0  ...   \n",
       "2             6-1 6-1 7-6(5)        5   R16    119.0   15.0   1.0  ...   \n",
       "3            4-6 6-4 6-4 7-5        5   R64    179.0   10.0   2.0  ...   \n",
       "4     6-7(6) 6-3 6-2 4-6 6-4        5   R16    238.0   10.0   3.0  ...   \n",
       "\n",
       "   w_bpSaved  w_bpFaced  l_ace  l_df  l_svpt  l_1stIn  l_1stWon  l_2ndWon  \\\n",
       "0        1.0        1.0    3.0   2.0    73.0     47.0      24.0      16.0   \n",
       "1       12.0       12.0   12.0   0.0   156.0    105.0      83.0      31.0   \n",
       "2        0.0        1.0    6.0  10.0    90.0     56.0      38.0      12.0   \n",
       "3        4.0        6.0   13.0   4.0   134.0     87.0      64.0      23.0   \n",
       "4        3.0        5.0   17.0   6.0   167.0    102.0      77.0      28.0   \n",
       "\n",
       "   l_bpSaved  l_bpFaced  \n",
       "0        3.0        8.0  \n",
       "1        2.0        3.0  \n",
       "2       14.0       20.0  \n",
       "3       10.0       14.0  \n",
       "4        8.0       13.0  \n",
       "\n",
       "[5 rows x 24 columns]"
      ]
     },
     "execution_count": 9,
     "metadata": {},
     "output_type": "execute_result"
    }
   ],
   "source": [
    "#Data cleaning code here\n",
    "# Only take matches that are Grand Slams (G)\n",
    "all_data = all_data[all_data[\"tourney_level\"] == \"G\"]\n",
    "\n",
    "# Reset the Index\n",
    "all_data.reset_index(inplace=True)\n",
    "\n",
    "# Drop Unused Collumns\n",
    "collumns_to_drop = [\n",
    "    'tourney_id', 'tourney_date', 'index', 'draw_size', 'match_num', \n",
    "    'winner_id', 'winner_seed', 'winner_entry', 'winner_hand', 'winner_ht', \n",
    "    'winner_ioc', 'winner_age', 'loser_id', 'loser_name', 'loser_seed', 'loser_entry', \n",
    "    'loser_hand', 'loser_ht', 'loser_ioc', 'loser_age', 'w_SvGms',\n",
    "    'l_SvGms', 'winner_rank', 'winner_rank_points', 'loser_rank', 'loser_rank_points'\n",
    "    ]\n",
    "\n",
    "all_data.drop(collumns_to_drop, axis=1, inplace=True)\n",
    "\n",
    "# Drop Rows with Na as values\n",
    "all_data.dropna(inplace=True)\n",
    "all_data.head()"
   ]
  },
  {
   "cell_type": "markdown",
   "id": "e66e048b",
   "metadata": {},
   "source": [
    "SANKEY DATA CREATION BY CONSIDERDING TOP 20 TENNIS PLAYERS"
   ]
  },
  {
   "cell_type": "code",
   "execution_count": 10,
   "id": "33007b3a",
   "metadata": {},
   "outputs": [
    {
     "data": {
      "text/html": [
       "<div>\n",
       "<style scoped>\n",
       "    .dataframe tbody tr th:only-of-type {\n",
       "        vertical-align: middle;\n",
       "    }\n",
       "\n",
       "    .dataframe tbody tr th {\n",
       "        vertical-align: top;\n",
       "    }\n",
       "\n",
       "    .dataframe thead th {\n",
       "        text-align: right;\n",
       "    }\n",
       "</style>\n",
       "<table border=\"1\" class=\"dataframe\">\n",
       "  <thead>\n",
       "    <tr style=\"text-align: right;\">\n",
       "      <th></th>\n",
       "      <th>winner_name</th>\n",
       "      <th>size</th>\n",
       "    </tr>\n",
       "  </thead>\n",
       "  <tbody>\n",
       "    <tr>\n",
       "      <th>428</th>\n",
       "      <td>Roger Federer</td>\n",
       "      <td>324</td>\n",
       "    </tr>\n",
       "    <tr>\n",
       "      <th>377</th>\n",
       "      <td>Novak Djokovic</td>\n",
       "      <td>284</td>\n",
       "    </tr>\n",
       "    <tr>\n",
       "      <th>407</th>\n",
       "      <td>Rafael Nadal</td>\n",
       "      <td>279</td>\n",
       "    </tr>\n",
       "    <tr>\n",
       "      <th>50</th>\n",
       "      <td>Andy Murray</td>\n",
       "      <td>182</td>\n",
       "    </tr>\n",
       "    <tr>\n",
       "      <th>104</th>\n",
       "      <td>David Ferrer</td>\n",
       "      <td>143</td>\n",
       "    </tr>\n",
       "    <tr>\n",
       "      <th>495</th>\n",
       "      <td>Tomas Berdych</td>\n",
       "      <td>140</td>\n",
       "    </tr>\n",
       "    <tr>\n",
       "      <th>459</th>\n",
       "      <td>Stan Wawrinka</td>\n",
       "      <td>140</td>\n",
       "    </tr>\n",
       "    <tr>\n",
       "      <th>51</th>\n",
       "      <td>Andy Roddick</td>\n",
       "      <td>116</td>\n",
       "    </tr>\n",
       "    <tr>\n",
       "      <th>243</th>\n",
       "      <td>Jo-Wilfried Tsonga</td>\n",
       "      <td>115</td>\n",
       "    </tr>\n",
       "    <tr>\n",
       "      <th>317</th>\n",
       "      <td>Marin Cilic</td>\n",
       "      <td>115</td>\n",
       "    </tr>\n",
       "    <tr>\n",
       "      <th>151</th>\n",
       "      <td>Fernando Verdasco</td>\n",
       "      <td>110</td>\n",
       "    </tr>\n",
       "    <tr>\n",
       "      <th>164</th>\n",
       "      <td>Gael Monfils</td>\n",
       "      <td>108</td>\n",
       "    </tr>\n",
       "    <tr>\n",
       "      <th>288</th>\n",
       "      <td>Lleyton Hewitt</td>\n",
       "      <td>100</td>\n",
       "    </tr>\n",
       "    <tr>\n",
       "      <th>417</th>\n",
       "      <td>Richard Gasquet</td>\n",
       "      <td>98</td>\n",
       "    </tr>\n",
       "    <tr>\n",
       "      <th>257</th>\n",
       "      <td>Juan Martin del Potro</td>\n",
       "      <td>97</td>\n",
       "    </tr>\n",
       "    <tr>\n",
       "      <th>273</th>\n",
       "      <td>Kei Nishikori</td>\n",
       "      <td>95</td>\n",
       "    </tr>\n",
       "    <tr>\n",
       "      <th>499</th>\n",
       "      <td>Tommy Robredo</td>\n",
       "      <td>93</td>\n",
       "    </tr>\n",
       "    <tr>\n",
       "      <th>353</th>\n",
       "      <td>Mikhail Youzhny</td>\n",
       "      <td>88</td>\n",
       "    </tr>\n",
       "    <tr>\n",
       "      <th>147</th>\n",
       "      <td>Feliciano Lopez</td>\n",
       "      <td>86</td>\n",
       "    </tr>\n",
       "    <tr>\n",
       "      <th>354</th>\n",
       "      <td>Milos Raonic</td>\n",
       "      <td>84</td>\n",
       "    </tr>\n",
       "  </tbody>\n",
       "</table>\n",
       "</div>"
      ],
      "text/plain": [
       "               winner_name  size\n",
       "428          Roger Federer   324\n",
       "377         Novak Djokovic   284\n",
       "407           Rafael Nadal   279\n",
       "50             Andy Murray   182\n",
       "104           David Ferrer   143\n",
       "495          Tomas Berdych   140\n",
       "459          Stan Wawrinka   140\n",
       "51            Andy Roddick   116\n",
       "243     Jo-Wilfried Tsonga   115\n",
       "317            Marin Cilic   115\n",
       "151      Fernando Verdasco   110\n",
       "164           Gael Monfils   108\n",
       "288         Lleyton Hewitt   100\n",
       "417        Richard Gasquet    98\n",
       "257  Juan Martin del Potro    97\n",
       "273          Kei Nishikori    95\n",
       "499          Tommy Robredo    93\n",
       "353        Mikhail Youzhny    88\n",
       "147        Feliciano Lopez    86\n",
       "354           Milos Raonic    84"
      ]
     },
     "execution_count": 10,
     "metadata": {},
     "output_type": "execute_result"
    }
   ],
   "source": [
    "#data taken for Sankey diagram is for top 20 players, so that the visualization is clear\n",
    "tgs = len(all_data) #total grand slam matches played\n",
    "sanky_data = all_data.groupby('winner_name',as_index=False).size().sort_values('size', ascending=False).head(20) #data for sanky diagram\n",
    "sanky_data "
   ]
  },
  {
   "cell_type": "markdown",
   "id": "fbbb0d70",
   "metadata": {},
   "source": [
    "SOURCE AND TARGET SETUP FOR SANKEY PLOT"
   ]
  },
  {
   "cell_type": "code",
   "execution_count": 11,
   "id": "a9467f8d",
   "metadata": {},
   "outputs": [
    {
     "data": {
      "text/html": [
       "<div>\n",
       "<style scoped>\n",
       "    .dataframe tbody tr th:only-of-type {\n",
       "        vertical-align: middle;\n",
       "    }\n",
       "\n",
       "    .dataframe tbody tr th {\n",
       "        vertical-align: top;\n",
       "    }\n",
       "\n",
       "    .dataframe thead th {\n",
       "        text-align: right;\n",
       "    }\n",
       "</style>\n",
       "<table border=\"1\" class=\"dataframe\">\n",
       "  <thead>\n",
       "    <tr style=\"text-align: right;\">\n",
       "      <th></th>\n",
       "      <th>winner_name</th>\n",
       "      <th>size</th>\n",
       "      <th>total_grand_slams</th>\n",
       "    </tr>\n",
       "  </thead>\n",
       "  <tbody>\n",
       "    <tr>\n",
       "      <th>428</th>\n",
       "      <td>Roger Federer: 324</td>\n",
       "      <td>324</td>\n",
       "      <td>Grand slam matches from 2003 to 2020: 8732</td>\n",
       "    </tr>\n",
       "    <tr>\n",
       "      <th>377</th>\n",
       "      <td>Novak Djokovic: 284</td>\n",
       "      <td>284</td>\n",
       "      <td>Grand slam matches from 2003 to 2020: 8732</td>\n",
       "    </tr>\n",
       "    <tr>\n",
       "      <th>407</th>\n",
       "      <td>Rafael Nadal: 279</td>\n",
       "      <td>279</td>\n",
       "      <td>Grand slam matches from 2003 to 2020: 8732</td>\n",
       "    </tr>\n",
       "    <tr>\n",
       "      <th>50</th>\n",
       "      <td>Andy Murray: 182</td>\n",
       "      <td>182</td>\n",
       "      <td>Grand slam matches from 2003 to 2020: 8732</td>\n",
       "    </tr>\n",
       "    <tr>\n",
       "      <th>104</th>\n",
       "      <td>David Ferrer: 143</td>\n",
       "      <td>143</td>\n",
       "      <td>Grand slam matches from 2003 to 2020: 8732</td>\n",
       "    </tr>\n",
       "    <tr>\n",
       "      <th>495</th>\n",
       "      <td>Tomas Berdych: 140</td>\n",
       "      <td>140</td>\n",
       "      <td>Grand slam matches from 2003 to 2020: 8732</td>\n",
       "    </tr>\n",
       "    <tr>\n",
       "      <th>459</th>\n",
       "      <td>Stan Wawrinka: 140</td>\n",
       "      <td>140</td>\n",
       "      <td>Grand slam matches from 2003 to 2020: 8732</td>\n",
       "    </tr>\n",
       "    <tr>\n",
       "      <th>51</th>\n",
       "      <td>Andy Roddick: 116</td>\n",
       "      <td>116</td>\n",
       "      <td>Grand slam matches from 2003 to 2020: 8732</td>\n",
       "    </tr>\n",
       "    <tr>\n",
       "      <th>243</th>\n",
       "      <td>Jo-Wilfried Tsonga: 115</td>\n",
       "      <td>115</td>\n",
       "      <td>Grand slam matches from 2003 to 2020: 8732</td>\n",
       "    </tr>\n",
       "    <tr>\n",
       "      <th>317</th>\n",
       "      <td>Marin Cilic: 115</td>\n",
       "      <td>115</td>\n",
       "      <td>Grand slam matches from 2003 to 2020: 8732</td>\n",
       "    </tr>\n",
       "    <tr>\n",
       "      <th>151</th>\n",
       "      <td>Fernando Verdasco: 110</td>\n",
       "      <td>110</td>\n",
       "      <td>Grand slam matches from 2003 to 2020: 8732</td>\n",
       "    </tr>\n",
       "    <tr>\n",
       "      <th>164</th>\n",
       "      <td>Gael Monfils: 108</td>\n",
       "      <td>108</td>\n",
       "      <td>Grand slam matches from 2003 to 2020: 8732</td>\n",
       "    </tr>\n",
       "    <tr>\n",
       "      <th>288</th>\n",
       "      <td>Lleyton Hewitt: 100</td>\n",
       "      <td>100</td>\n",
       "      <td>Grand slam matches from 2003 to 2020: 8732</td>\n",
       "    </tr>\n",
       "    <tr>\n",
       "      <th>417</th>\n",
       "      <td>Richard Gasquet: 98</td>\n",
       "      <td>98</td>\n",
       "      <td>Grand slam matches from 2003 to 2020: 8732</td>\n",
       "    </tr>\n",
       "    <tr>\n",
       "      <th>257</th>\n",
       "      <td>Juan Martin del Potro: 97</td>\n",
       "      <td>97</td>\n",
       "      <td>Grand slam matches from 2003 to 2020: 8732</td>\n",
       "    </tr>\n",
       "    <tr>\n",
       "      <th>273</th>\n",
       "      <td>Kei Nishikori: 95</td>\n",
       "      <td>95</td>\n",
       "      <td>Grand slam matches from 2003 to 2020: 8732</td>\n",
       "    </tr>\n",
       "    <tr>\n",
       "      <th>499</th>\n",
       "      <td>Tommy Robredo: 93</td>\n",
       "      <td>93</td>\n",
       "      <td>Grand slam matches from 2003 to 2020: 8732</td>\n",
       "    </tr>\n",
       "    <tr>\n",
       "      <th>353</th>\n",
       "      <td>Mikhail Youzhny: 88</td>\n",
       "      <td>88</td>\n",
       "      <td>Grand slam matches from 2003 to 2020: 8732</td>\n",
       "    </tr>\n",
       "    <tr>\n",
       "      <th>147</th>\n",
       "      <td>Feliciano Lopez: 86</td>\n",
       "      <td>86</td>\n",
       "      <td>Grand slam matches from 2003 to 2020: 8732</td>\n",
       "    </tr>\n",
       "    <tr>\n",
       "      <th>354</th>\n",
       "      <td>Milos Raonic: 84</td>\n",
       "      <td>84</td>\n",
       "      <td>Grand slam matches from 2003 to 2020: 8732</td>\n",
       "    </tr>\n",
       "  </tbody>\n",
       "</table>\n",
       "</div>"
      ],
      "text/plain": [
       "                   winner_name  size  \\\n",
       "428         Roger Federer: 324   324   \n",
       "377        Novak Djokovic: 284   284   \n",
       "407          Rafael Nadal: 279   279   \n",
       "50            Andy Murray: 182   182   \n",
       "104          David Ferrer: 143   143   \n",
       "495         Tomas Berdych: 140   140   \n",
       "459         Stan Wawrinka: 140   140   \n",
       "51           Andy Roddick: 116   116   \n",
       "243    Jo-Wilfried Tsonga: 115   115   \n",
       "317           Marin Cilic: 115   115   \n",
       "151     Fernando Verdasco: 110   110   \n",
       "164          Gael Monfils: 108   108   \n",
       "288        Lleyton Hewitt: 100   100   \n",
       "417        Richard Gasquet: 98    98   \n",
       "257  Juan Martin del Potro: 97    97   \n",
       "273          Kei Nishikori: 95    95   \n",
       "499          Tommy Robredo: 93    93   \n",
       "353        Mikhail Youzhny: 88    88   \n",
       "147        Feliciano Lopez: 86    86   \n",
       "354           Milos Raonic: 84    84   \n",
       "\n",
       "                              total_grand_slams  \n",
       "428  Grand slam matches from 2003 to 2020: 8732  \n",
       "377  Grand slam matches from 2003 to 2020: 8732  \n",
       "407  Grand slam matches from 2003 to 2020: 8732  \n",
       "50   Grand slam matches from 2003 to 2020: 8732  \n",
       "104  Grand slam matches from 2003 to 2020: 8732  \n",
       "495  Grand slam matches from 2003 to 2020: 8732  \n",
       "459  Grand slam matches from 2003 to 2020: 8732  \n",
       "51   Grand slam matches from 2003 to 2020: 8732  \n",
       "243  Grand slam matches from 2003 to 2020: 8732  \n",
       "317  Grand slam matches from 2003 to 2020: 8732  \n",
       "151  Grand slam matches from 2003 to 2020: 8732  \n",
       "164  Grand slam matches from 2003 to 2020: 8732  \n",
       "288  Grand slam matches from 2003 to 2020: 8732  \n",
       "417  Grand slam matches from 2003 to 2020: 8732  \n",
       "257  Grand slam matches from 2003 to 2020: 8732  \n",
       "273  Grand slam matches from 2003 to 2020: 8732  \n",
       "499  Grand slam matches from 2003 to 2020: 8732  \n",
       "353  Grand slam matches from 2003 to 2020: 8732  \n",
       "147  Grand slam matches from 2003 to 2020: 8732  \n",
       "354  Grand slam matches from 2003 to 2020: 8732  "
      ]
     },
     "execution_count": 11,
     "metadata": {},
     "output_type": "execute_result"
    }
   ],
   "source": [
    "sanky_data['total_grand_slams'] = 'Grand slam matches from 2003 to 2020: ' + str(+ tgs)\n",
    "sanky_data[\"winner_name\"] = sanky_data[\"winner_name\"] +\": \"+ (sanky_data['size']).astype(str)\n",
    "sanky_data"
   ]
  },
  {
   "cell_type": "markdown",
   "id": "6a861c3c",
   "metadata": {},
   "source": [
    "PLOTTING DIAGRAM"
   ]
  },
  {
   "cell_type": "code",
   "execution_count": 12,
   "id": "0508236d",
   "metadata": {},
   "outputs": [
    {
     "data": {
      "application/vnd.plotly.v1+json": {
       "config": {
        "plotlyServerURL": "https://plot.ly"
       },
       "data": [
        {
         "link": {
          "color": [
           "#bdf9e5",
           "#bdf9e5",
           "#bdf9e5",
           "#bdf9e5",
           "#bdf9e5",
           "#bdf9e5",
           "#bdf9e5",
           "#bdf9e5",
           "#bdf9e5",
           "#bdf9e5",
           "#bdf9e5",
           "#bdf9e5",
           "#bdf9e5",
           "#bdf9e5",
           "#bdf9e5",
           "#bdf9e5",
           "#bdf9e5",
           "#bdf9e5",
           "#bdf9e5",
           "#bdf9e5"
          ],
          "source": [
           0,
           0,
           0,
           0,
           0,
           0,
           0,
           0,
           0,
           0,
           0,
           0,
           0,
           0,
           0,
           0,
           0,
           0,
           0,
           0
          ],
          "target": [
           1,
           2,
           3,
           4,
           5,
           6,
           7,
           8,
           9,
           10,
           11,
           12,
           13,
           14,
           15,
           16,
           17,
           18,
           19,
           20
          ],
          "value": [
           324,
           284,
           279,
           182,
           143,
           140,
           140,
           116,
           115,
           115,
           110,
           108,
           100,
           98,
           97,
           95,
           93,
           88,
           86,
           84
          ]
         },
         "node": {
          "color": [
           "#84baa6",
           "#84baa6",
           "#84baa6",
           "#84baa6",
           "#84baa6",
           "#84baa6",
           "#84baa6",
           "#84baa6",
           "#84baa6",
           "#84baa6",
           "#84baa6",
           "#84baa6",
           "#84baa6",
           "#84baa6",
           "#84baa6",
           "#84baa6",
           "#84baa6",
           "#84baa6",
           "#84baa6",
           "#84baa6",
           "#84baa6"
          ],
          "label": [
           "Grand slam matches from 2003 to 2020: 8732",
           "Roger Federer: 324",
           "Novak Djokovic: 284",
           "Rafael Nadal: 279",
           "Andy Murray: 182",
           "David Ferrer: 143",
           "Tomas Berdych: 140",
           "Stan Wawrinka: 140",
           "Andy Roddick: 116",
           "Jo-Wilfried Tsonga: 115",
           "Marin Cilic: 115",
           "Fernando Verdasco: 110",
           "Gael Monfils: 108",
           "Lleyton Hewitt: 100",
           "Richard Gasquet: 98",
           "Juan Martin del Potro: 97",
           "Kei Nishikori: 95",
           "Tommy Robredo: 93",
           "Mikhail Youzhny: 88",
           "Feliciano Lopez: 86",
           "Milos Raonic: 84"
          ],
          "line": {
           "color": "#435951",
           "width": 0.5
          },
          "pad": 15,
          "thickness": 20
         },
         "type": "sankey"
        }
       ],
       "layout": {
        "font": {
         "size": 12
        },
        "template": {
         "data": {
          "bar": [
           {
            "error_x": {
             "color": "#2a3f5f"
            },
            "error_y": {
             "color": "#2a3f5f"
            },
            "marker": {
             "line": {
              "color": "#E5ECF6",
              "width": 0.5
             },
             "pattern": {
              "fillmode": "overlay",
              "size": 10,
              "solidity": 0.2
             }
            },
            "type": "bar"
           }
          ],
          "barpolar": [
           {
            "marker": {
             "line": {
              "color": "#E5ECF6",
              "width": 0.5
             },
             "pattern": {
              "fillmode": "overlay",
              "size": 10,
              "solidity": 0.2
             }
            },
            "type": "barpolar"
           }
          ],
          "carpet": [
           {
            "aaxis": {
             "endlinecolor": "#2a3f5f",
             "gridcolor": "white",
             "linecolor": "white",
             "minorgridcolor": "white",
             "startlinecolor": "#2a3f5f"
            },
            "baxis": {
             "endlinecolor": "#2a3f5f",
             "gridcolor": "white",
             "linecolor": "white",
             "minorgridcolor": "white",
             "startlinecolor": "#2a3f5f"
            },
            "type": "carpet"
           }
          ],
          "choropleth": [
           {
            "colorbar": {
             "outlinewidth": 0,
             "ticks": ""
            },
            "type": "choropleth"
           }
          ],
          "contour": [
           {
            "colorbar": {
             "outlinewidth": 0,
             "ticks": ""
            },
            "colorscale": [
             [
              0,
              "#0d0887"
             ],
             [
              0.1111111111111111,
              "#46039f"
             ],
             [
              0.2222222222222222,
              "#7201a8"
             ],
             [
              0.3333333333333333,
              "#9c179e"
             ],
             [
              0.4444444444444444,
              "#bd3786"
             ],
             [
              0.5555555555555556,
              "#d8576b"
             ],
             [
              0.6666666666666666,
              "#ed7953"
             ],
             [
              0.7777777777777778,
              "#fb9f3a"
             ],
             [
              0.8888888888888888,
              "#fdca26"
             ],
             [
              1,
              "#f0f921"
             ]
            ],
            "type": "contour"
           }
          ],
          "contourcarpet": [
           {
            "colorbar": {
             "outlinewidth": 0,
             "ticks": ""
            },
            "type": "contourcarpet"
           }
          ],
          "heatmap": [
           {
            "colorbar": {
             "outlinewidth": 0,
             "ticks": ""
            },
            "colorscale": [
             [
              0,
              "#0d0887"
             ],
             [
              0.1111111111111111,
              "#46039f"
             ],
             [
              0.2222222222222222,
              "#7201a8"
             ],
             [
              0.3333333333333333,
              "#9c179e"
             ],
             [
              0.4444444444444444,
              "#bd3786"
             ],
             [
              0.5555555555555556,
              "#d8576b"
             ],
             [
              0.6666666666666666,
              "#ed7953"
             ],
             [
              0.7777777777777778,
              "#fb9f3a"
             ],
             [
              0.8888888888888888,
              "#fdca26"
             ],
             [
              1,
              "#f0f921"
             ]
            ],
            "type": "heatmap"
           }
          ],
          "heatmapgl": [
           {
            "colorbar": {
             "outlinewidth": 0,
             "ticks": ""
            },
            "colorscale": [
             [
              0,
              "#0d0887"
             ],
             [
              0.1111111111111111,
              "#46039f"
             ],
             [
              0.2222222222222222,
              "#7201a8"
             ],
             [
              0.3333333333333333,
              "#9c179e"
             ],
             [
              0.4444444444444444,
              "#bd3786"
             ],
             [
              0.5555555555555556,
              "#d8576b"
             ],
             [
              0.6666666666666666,
              "#ed7953"
             ],
             [
              0.7777777777777778,
              "#fb9f3a"
             ],
             [
              0.8888888888888888,
              "#fdca26"
             ],
             [
              1,
              "#f0f921"
             ]
            ],
            "type": "heatmapgl"
           }
          ],
          "histogram": [
           {
            "marker": {
             "pattern": {
              "fillmode": "overlay",
              "size": 10,
              "solidity": 0.2
             }
            },
            "type": "histogram"
           }
          ],
          "histogram2d": [
           {
            "colorbar": {
             "outlinewidth": 0,
             "ticks": ""
            },
            "colorscale": [
             [
              0,
              "#0d0887"
             ],
             [
              0.1111111111111111,
              "#46039f"
             ],
             [
              0.2222222222222222,
              "#7201a8"
             ],
             [
              0.3333333333333333,
              "#9c179e"
             ],
             [
              0.4444444444444444,
              "#bd3786"
             ],
             [
              0.5555555555555556,
              "#d8576b"
             ],
             [
              0.6666666666666666,
              "#ed7953"
             ],
             [
              0.7777777777777778,
              "#fb9f3a"
             ],
             [
              0.8888888888888888,
              "#fdca26"
             ],
             [
              1,
              "#f0f921"
             ]
            ],
            "type": "histogram2d"
           }
          ],
          "histogram2dcontour": [
           {
            "colorbar": {
             "outlinewidth": 0,
             "ticks": ""
            },
            "colorscale": [
             [
              0,
              "#0d0887"
             ],
             [
              0.1111111111111111,
              "#46039f"
             ],
             [
              0.2222222222222222,
              "#7201a8"
             ],
             [
              0.3333333333333333,
              "#9c179e"
             ],
             [
              0.4444444444444444,
              "#bd3786"
             ],
             [
              0.5555555555555556,
              "#d8576b"
             ],
             [
              0.6666666666666666,
              "#ed7953"
             ],
             [
              0.7777777777777778,
              "#fb9f3a"
             ],
             [
              0.8888888888888888,
              "#fdca26"
             ],
             [
              1,
              "#f0f921"
             ]
            ],
            "type": "histogram2dcontour"
           }
          ],
          "mesh3d": [
           {
            "colorbar": {
             "outlinewidth": 0,
             "ticks": ""
            },
            "type": "mesh3d"
           }
          ],
          "parcoords": [
           {
            "line": {
             "colorbar": {
              "outlinewidth": 0,
              "ticks": ""
             }
            },
            "type": "parcoords"
           }
          ],
          "pie": [
           {
            "automargin": true,
            "type": "pie"
           }
          ],
          "scatter": [
           {
            "fillpattern": {
             "fillmode": "overlay",
             "size": 10,
             "solidity": 0.2
            },
            "type": "scatter"
           }
          ],
          "scatter3d": [
           {
            "line": {
             "colorbar": {
              "outlinewidth": 0,
              "ticks": ""
             }
            },
            "marker": {
             "colorbar": {
              "outlinewidth": 0,
              "ticks": ""
             }
            },
            "type": "scatter3d"
           }
          ],
          "scattercarpet": [
           {
            "marker": {
             "colorbar": {
              "outlinewidth": 0,
              "ticks": ""
             }
            },
            "type": "scattercarpet"
           }
          ],
          "scattergeo": [
           {
            "marker": {
             "colorbar": {
              "outlinewidth": 0,
              "ticks": ""
             }
            },
            "type": "scattergeo"
           }
          ],
          "scattergl": [
           {
            "marker": {
             "colorbar": {
              "outlinewidth": 0,
              "ticks": ""
             }
            },
            "type": "scattergl"
           }
          ],
          "scattermapbox": [
           {
            "marker": {
             "colorbar": {
              "outlinewidth": 0,
              "ticks": ""
             }
            },
            "type": "scattermapbox"
           }
          ],
          "scatterpolar": [
           {
            "marker": {
             "colorbar": {
              "outlinewidth": 0,
              "ticks": ""
             }
            },
            "type": "scatterpolar"
           }
          ],
          "scatterpolargl": [
           {
            "marker": {
             "colorbar": {
              "outlinewidth": 0,
              "ticks": ""
             }
            },
            "type": "scatterpolargl"
           }
          ],
          "scatterternary": [
           {
            "marker": {
             "colorbar": {
              "outlinewidth": 0,
              "ticks": ""
             }
            },
            "type": "scatterternary"
           }
          ],
          "surface": [
           {
            "colorbar": {
             "outlinewidth": 0,
             "ticks": ""
            },
            "colorscale": [
             [
              0,
              "#0d0887"
             ],
             [
              0.1111111111111111,
              "#46039f"
             ],
             [
              0.2222222222222222,
              "#7201a8"
             ],
             [
              0.3333333333333333,
              "#9c179e"
             ],
             [
              0.4444444444444444,
              "#bd3786"
             ],
             [
              0.5555555555555556,
              "#d8576b"
             ],
             [
              0.6666666666666666,
              "#ed7953"
             ],
             [
              0.7777777777777778,
              "#fb9f3a"
             ],
             [
              0.8888888888888888,
              "#fdca26"
             ],
             [
              1,
              "#f0f921"
             ]
            ],
            "type": "surface"
           }
          ],
          "table": [
           {
            "cells": {
             "fill": {
              "color": "#EBF0F8"
             },
             "line": {
              "color": "white"
             }
            },
            "header": {
             "fill": {
              "color": "#C8D4E3"
             },
             "line": {
              "color": "white"
             }
            },
            "type": "table"
           }
          ]
         },
         "layout": {
          "annotationdefaults": {
           "arrowcolor": "#2a3f5f",
           "arrowhead": 0,
           "arrowwidth": 1
          },
          "autotypenumbers": "strict",
          "coloraxis": {
           "colorbar": {
            "outlinewidth": 0,
            "ticks": ""
           }
          },
          "colorscale": {
           "diverging": [
            [
             0,
             "#8e0152"
            ],
            [
             0.1,
             "#c51b7d"
            ],
            [
             0.2,
             "#de77ae"
            ],
            [
             0.3,
             "#f1b6da"
            ],
            [
             0.4,
             "#fde0ef"
            ],
            [
             0.5,
             "#f7f7f7"
            ],
            [
             0.6,
             "#e6f5d0"
            ],
            [
             0.7,
             "#b8e186"
            ],
            [
             0.8,
             "#7fbc41"
            ],
            [
             0.9,
             "#4d9221"
            ],
            [
             1,
             "#276419"
            ]
           ],
           "sequential": [
            [
             0,
             "#0d0887"
            ],
            [
             0.1111111111111111,
             "#46039f"
            ],
            [
             0.2222222222222222,
             "#7201a8"
            ],
            [
             0.3333333333333333,
             "#9c179e"
            ],
            [
             0.4444444444444444,
             "#bd3786"
            ],
            [
             0.5555555555555556,
             "#d8576b"
            ],
            [
             0.6666666666666666,
             "#ed7953"
            ],
            [
             0.7777777777777778,
             "#fb9f3a"
            ],
            [
             0.8888888888888888,
             "#fdca26"
            ],
            [
             1,
             "#f0f921"
            ]
           ],
           "sequentialminus": [
            [
             0,
             "#0d0887"
            ],
            [
             0.1111111111111111,
             "#46039f"
            ],
            [
             0.2222222222222222,
             "#7201a8"
            ],
            [
             0.3333333333333333,
             "#9c179e"
            ],
            [
             0.4444444444444444,
             "#bd3786"
            ],
            [
             0.5555555555555556,
             "#d8576b"
            ],
            [
             0.6666666666666666,
             "#ed7953"
            ],
            [
             0.7777777777777778,
             "#fb9f3a"
            ],
            [
             0.8888888888888888,
             "#fdca26"
            ],
            [
             1,
             "#f0f921"
            ]
           ]
          },
          "colorway": [
           "#636efa",
           "#EF553B",
           "#00cc96",
           "#ab63fa",
           "#FFA15A",
           "#19d3f3",
           "#FF6692",
           "#B6E880",
           "#FF97FF",
           "#FECB52"
          ],
          "font": {
           "color": "#2a3f5f"
          },
          "geo": {
           "bgcolor": "white",
           "lakecolor": "white",
           "landcolor": "#E5ECF6",
           "showlakes": true,
           "showland": true,
           "subunitcolor": "white"
          },
          "hoverlabel": {
           "align": "left"
          },
          "hovermode": "closest",
          "mapbox": {
           "style": "light"
          },
          "paper_bgcolor": "white",
          "plot_bgcolor": "#E5ECF6",
          "polar": {
           "angularaxis": {
            "gridcolor": "white",
            "linecolor": "white",
            "ticks": ""
           },
           "bgcolor": "#E5ECF6",
           "radialaxis": {
            "gridcolor": "white",
            "linecolor": "white",
            "ticks": ""
           }
          },
          "scene": {
           "xaxis": {
            "backgroundcolor": "#E5ECF6",
            "gridcolor": "white",
            "gridwidth": 2,
            "linecolor": "white",
            "showbackground": true,
            "ticks": "",
            "zerolinecolor": "white"
           },
           "yaxis": {
            "backgroundcolor": "#E5ECF6",
            "gridcolor": "white",
            "gridwidth": 2,
            "linecolor": "white",
            "showbackground": true,
            "ticks": "",
            "zerolinecolor": "white"
           },
           "zaxis": {
            "backgroundcolor": "#E5ECF6",
            "gridcolor": "white",
            "gridwidth": 2,
            "linecolor": "white",
            "showbackground": true,
            "ticks": "",
            "zerolinecolor": "white"
           }
          },
          "shapedefaults": {
           "line": {
            "color": "#2a3f5f"
           }
          },
          "ternary": {
           "aaxis": {
            "gridcolor": "white",
            "linecolor": "white",
            "ticks": ""
           },
           "baxis": {
            "gridcolor": "white",
            "linecolor": "white",
            "ticks": ""
           },
           "bgcolor": "#E5ECF6",
           "caxis": {
            "gridcolor": "white",
            "linecolor": "white",
            "ticks": ""
           }
          },
          "title": {
           "x": 0.05
          },
          "xaxis": {
           "automargin": true,
           "gridcolor": "white",
           "linecolor": "white",
           "ticks": "",
           "title": {
            "standoff": 15
           },
           "zerolinecolor": "white",
           "zerolinewidth": 2
          },
          "yaxis": {
           "automargin": true,
           "gridcolor": "white",
           "linecolor": "white",
           "ticks": "",
           "title": {
            "standoff": 15
           },
           "zerolinecolor": "white",
           "zerolinewidth": 2
          }
         }
        },
        "title": {
         "text": "Distribution of Grand Slam match winners (top 20)"
        }
       }
      }
     },
     "metadata": {},
     "output_type": "display_data"
    }
   ],
   "source": [
    "#Code to generate sanky diagram\n",
    "import plotly.graph_objects as go\n",
    " \n",
    "# First, we get a list of all of sources, remove duplicates, and make this a list\n",
    "sources = sanky_data['total_grand_slams'].drop_duplicates().tolist()\n",
    " \n",
    "# Then, we get a list of all of platforms (our targets), remove duplicates, and make this a list\n",
    "platforms = sanky_data['winner_name'].drop_duplicates().tolist()\n",
    " \n",
    "# Finally, create a list of all our nodes. We will use this for giving an id to each node for plot.ly\n",
    "all_nodes = sources + platforms\n",
    " \n",
    "# Keeping the size of our dataframes, this would be useful for applying the same color for each \"node\" and \"link\" of our sankey diagram, if we so choose to do so\n",
    "n = len(all_nodes)\n",
    "n2 = len(sanky_data['total_grand_slams'])\n",
    " \n",
    "# Create a dataframe that has all of the node ids. We will join this to the original data frame to reference later\n",
    "df1 = pd.DataFrame(all_nodes, columns = ['node'])\n",
    "df1 = df1.reset_index()\n",
    "df2 = pd.merge(pd.merge(sanky_data, df1, how = 'inner', left_on = \"total_grand_slams\", right_on =\"node\"), df1, how = 'inner', left_on = \"winner_name\", right_on =\"node\", suffixes = ('_source','_target'))\n",
    " \n",
    "# Setting up the data in the plotly \"data\" argument.\n",
    "# The nodes are described in the \"node\" dictionary (these are the vertical rectangles in the diagram)\n",
    "# The links are described in the \"link\" dictionary. These have 3 attributes, the \"source\" (the index of the node they start at), the \"target\" (the index of the node they end at), and the \"value\" the thickness of the band. Additional attributes, such as color can also be specified.\n",
    "data = dict(\n",
    "    type='sankey',\n",
    "    node = dict(\n",
    "      pad = 15,\n",
    "      thickness = 20,\n",
    "      line = dict(\n",
    "        color = \"#435951\",\n",
    "        width = 0.5\n",
    "      ),\n",
    "      label = all_nodes,\n",
    "      color = [\"#84baa6\"] * n\n",
    "    ),\n",
    "    link = dict(\n",
    "      source = df2[\"index_source\"],\n",
    "      target = df2[\"index_target\"],\n",
    "      value = df2[\"size\"],\n",
    "      color = ['#bdf9e5'] * n2\n",
    "  ))\n",
    " \n",
    "# Setting up the layout settings in the \"layout\" argument\n",
    "layout =  dict(\n",
    "    title = \"Distribution of Grand Slam match winners (top 20)\",\n",
    "    font = dict(\n",
    "      size = 12\n",
    "    )\n",
    ")\n",
    " \n",
    "fig = go.Figure(data=[data], layout=layout)\n",
    " \n",
    "fig.show()"
   ]
  },
  {
   "cell_type": "code",
   "execution_count": null,
   "id": "6d06c937",
   "metadata": {},
   "outputs": [],
   "source": []
  }
 ],
 "metadata": {
  "kernelspec": {
   "display_name": "Python 3.9.6 64-bit",
   "language": "python",
   "name": "python3"
  },
  "language_info": {
   "codemirror_mode": {
    "name": "ipython",
    "version": 3
   },
   "file_extension": ".py",
   "mimetype": "text/x-python",
   "name": "python",
   "nbconvert_exporter": "python",
   "pygments_lexer": "ipython3",
   "version": "3.9.6"
  },
  "vscode": {
   "interpreter": {
    "hash": "31f2aee4e71d21fbe5cf8b01ff0e069b9275f58929596ceb00d14d90e3e16cd6"
   }
  }
 },
 "nbformat": 4,
 "nbformat_minor": 5
}
